{
 "cells": [
  {
   "cell_type": "code",
   "execution_count": 45,
   "metadata": {},
   "outputs": [],
   "source": [
    "import numpy as np\n",
    "import matplotlib.pyplot as plt\n",
    "%matplotlib inline"
   ]
  },
  {
   "cell_type": "markdown",
   "metadata": {},
   "source": [
    "### 1 - Read file line-by-line"
   ]
  },
  {
   "cell_type": "code",
   "execution_count": 46,
   "metadata": {},
   "outputs": [],
   "source": [
    "filepath = \"surfaces/petrel_irapclassic_surf\"\n",
    "\n",
    "with open(filepath, \"r\") as file:  # opens the file at given filepath\n",
    "    lines = file.readlines()  # read all lines from file, then store in list"
   ]
  },
  {
   "cell_type": "code",
   "execution_count": 47,
   "metadata": {},
   "outputs": [
    {
     "name": "stdout",
     "output_type": "stream",
     "text": [
      "# of lines: 1427 \n",
      "\n",
      "first 10 lines:\n",
      "\n"
     ]
    },
    {
     "data": {
      "text/plain": [
       "['-996 88 50.000000 50.000000\\n',\n",
       " '0 4800.0 0 4350.0\\n',\n",
       " '97 0.000000 0 0\\n',\n",
       " '0 0 0 0 0 0 0\\n',\n",
       " '9999900.000000 9999900.000000 9999900.000000 9999900.000000 9999900.000000 9999900.000000\\n',\n",
       " '9999900.000000 9999900.000000 9999900.000000 9999900.000000 9999900.000000 9999900.000000\\n',\n",
       " '9999900.000000 9999900.000000 9999900.000000 9999900.000000 9999900.000000 9999900.000000\\n',\n",
       " '9999900.000000 9999900.000000 9999900.000000 9999900.000000 9999900.000000 9999900.000000\\n',\n",
       " '9999900.000000 9999900.000000 9999900.000000 9999900.000000 9999900.000000 9999900.000000\\n',\n",
       " '9999900.000000 9999900.000000 9999900.000000 9999900.000000 9999900.000000 9999900.000000\\n']"
      ]
     },
     "execution_count": 47,
     "metadata": {},
     "output_type": "execute_result"
    }
   ],
   "source": [
    "print(\"# of lines:\", len(lines), \"\\n\")\n",
    "print(\"first 10 lines:\\n\")\n",
    "lines[:10]"
   ]
  },
  {
   "cell_type": "markdown",
   "metadata": {},
   "source": [
    "The above code loaded in every line of the file as a `str` (string) into a list of lines. We can immediately see that the first four lines are different from the rest. The first four lines correspond to the header, while the rest make up the regular grid. As we read in a normal \"text\" file (ascii file), each line has a `\\n` at its end - which is the ascii code for end-ofline. Let's remove it:"
   ]
  },
  {
   "cell_type": "code",
   "execution_count": 48,
   "metadata": {},
   "outputs": [
    {
     "data": {
      "text/plain": [
       "['-996 88 50.000000 50.000000',\n",
       " '0 4800.0 0 4350.0',\n",
       " '97 0.000000 0 0',\n",
       " '0 0 0 0 0 0 0',\n",
       " '9999900.000000 9999900.000000 9999900.000000 9999900.000000 9999900.000000 9999900.000000',\n",
       " '9999900.000000 9999900.000000 9999900.000000 9999900.000000 9999900.000000 9999900.000000',\n",
       " '9999900.000000 9999900.000000 9999900.000000 9999900.000000 9999900.000000 9999900.000000',\n",
       " '9999900.000000 9999900.000000 9999900.000000 9999900.000000 9999900.000000 9999900.000000',\n",
       " '9999900.000000 9999900.000000 9999900.000000 9999900.000000 9999900.000000 9999900.000000',\n",
       " '9999900.000000 9999900.000000 9999900.000000 9999900.000000 9999900.000000 9999900.000000']"
      ]
     },
     "execution_count": 48,
     "metadata": {},
     "output_type": "execute_result"
    }
   ],
   "source": [
    "for i, line in enumerate(lines):  # iterate over every line\n",
    "    lines[i] = line.rstrip(\"\\n\")  # strip away the \\n from the right of the string\n",
    "    \n",
    "lines[:10]"
   ]
  },
  {
   "cell_type": "code",
   "execution_count": 49,
   "metadata": {},
   "outputs": [],
   "source": [
    "file_header = lines[:4]\n",
    "file_grid = lines[4:]"
   ]
  },
  {
   "cell_type": "code",
   "execution_count": 50,
   "metadata": {},
   "outputs": [],
   "source": [
    "z_values = []  # this is going to be our storage list\n",
    "for line in file_grid:  # iterate over every line in the grid part of the file\n",
    "    line_values = line.split(\" \")  # split current line into its separate values\n",
    "                                   # with an empty space \" \" as delimiter\n",
    "    for z_value in line_values: # iterate over every value in the line\n",
    "        z_values.append(float(z_value))  # convert value from str into float\n",
    "                                         # and append to our z_values list"
   ]
  },
  {
   "cell_type": "markdown",
   "metadata": {},
   "source": [
    "Now that we have a consecutive list of all z-values in the grid stored in `z_values`, we can convert this consecutive list into a 2-D grid of z-values."
   ]
  },
  {
   "cell_type": "code",
   "execution_count": 51,
   "metadata": {},
   "outputs": [],
   "source": [
    "Z_grid = []  # empty storage list for our grid of z-values\n",
    "for i in range(1, 88 + 1):  # loop from [1, 2, ..., 88]\n",
    "    # take 88 rows of 97 values and store them as lists in our z_grid list \n",
    "    # we do some more involved indexing here\n",
    "    # basically for our first i=1 the following index [(i - 1) * 97:i * 97] would\n",
    "    # i=1: [0:97]\n",
    "    # i=2: [91:194]\n",
    "    # ...\n",
    "    # i=88: [8439:8536]\n",
    "    Z_grid.append(z_values[(i - 1) * 97:i * 97])\n",
    "# afterwards we convert our \"2-D list\" into a 2-D numpy array:\n",
    "Z_grid =  np.array(z_grid)"
   ]
  },
  {
   "cell_type": "code",
   "execution_count": 52,
   "metadata": {},
   "outputs": [
    {
     "data": {
      "text/plain": [
       "(88, 97)"
      ]
     },
     "execution_count": 52,
     "metadata": {},
     "output_type": "execute_result"
    }
   ],
   "source": [
    "Z_grid.shape"
   ]
  },
  {
   "cell_type": "markdown",
   "metadata": {},
   "source": [
    "The z_grid array now is a 2-D array of 88 rows and 97 columns. We can plot it easily as a \"black and white\" image using matplotlib's `imshow` function:"
   ]
  },
  {
   "cell_type": "code",
   "execution_count": 53,
   "metadata": {},
   "outputs": [
    {
     "data": {
      "text/plain": [
       "<matplotlib.image.AxesImage at 0x181daa14550>"
      ]
     },
     "execution_count": 53,
     "metadata": {},
     "output_type": "execute_result"
    },
    {
     "data": {
      "image/png": "[encoded data removed]",
      "text/plain": [
       "<Figure size 432x288 with 1 Axes>"
      ]
     },
     "metadata": {
      "needs_background": "light"
     },
     "output_type": "display_data"
    }
   ],
   "source": [
    "plt.imshow(Z_grid, cmap=\"Greys\")"
   ]
  },
  {
   "cell_type": "markdown",
   "metadata": {},
   "source": [
    "Now we need to create our X and Y grids to associate with the Z values. For this we need the X and Y extent of the grid, which we can load from the second row of our file (stored in the header list):"
   ]
  },
  {
   "cell_type": "code",
   "execution_count": 54,
   "metadata": {},
   "outputs": [
    {
     "data": {
      "text/plain": [
       "[0.0, 4800.0, 0.0, 4350.0]"
      ]
     },
     "execution_count": 54,
     "metadata": {},
     "output_type": "execute_result"
    }
   ],
   "source": [
    "extent = [float(val) for val in file_header[1].split(\" \")]\n",
    "extent"
   ]
  },
  {
   "cell_type": "code",
   "execution_count": 55,
   "metadata": {},
   "outputs": [
    {
     "data": {
      "text/plain": [
       "[-996.0, 88.0, 50.0, 50.0]"
      ]
     },
     "execution_count": 55,
     "metadata": {},
     "output_type": "execute_result"
    }
   ],
   "source": [
    "grid_parameters = [float(val) for val in file_header[0].split(\" \")]\n",
    "grid_parameters"
   ]
  },
  {
   "cell_type": "code",
   "execution_count": 56,
   "metadata": {},
   "outputs": [],
   "source": [
    "x_coords = np.arange(88) * grid_parameters[2] + extent[0]\n",
    "y_coords = np.arange(97) * grid_parameters[3] + extent[2]"
   ]
  },
  {
   "cell_type": "code",
   "execution_count": 57,
   "metadata": {},
   "outputs": [],
   "source": [
    "X_grid, Y_grid = np.meshgrid(y_coords, x_coords)"
   ]
  },
  {
   "cell_type": "code",
   "execution_count": 58,
   "metadata": {},
   "outputs": [
    {
     "data": {
      "text/plain": [
       "(88, 97)"
      ]
     },
     "execution_count": 58,
     "metadata": {},
     "output_type": "execute_result"
    }
   ],
   "source": [
    "X_grid.shape"
   ]
  },
  {
   "cell_type": "markdown",
   "metadata": {},
   "source": [
    "Now we can stack the grids of X, Y and Z values together into a 3-D array:"
   ]
  },
  {
   "cell_type": "code",
   "execution_count": 59,
   "metadata": {},
   "outputs": [
    {
     "data": {
      "text/plain": [
       "(3, 88, 97)"
      ]
     },
     "execution_count": 59,
     "metadata": {},
     "output_type": "execute_result"
    }
   ],
   "source": [
    "stacked_grid = np.stack((X_grid, Y_grid, Z_grid), axis=0)\n",
    "stacked_grid.shape"
   ]
  },
  {
   "cell_type": "markdown",
   "metadata": {},
   "source": [
    "And then reshape the array from 3-D into a 2-D array where every row corresponds to a single grid points with three columns containing the x, y and z values:"
   ]
  },
  {
   "cell_type": "code",
   "execution_count": 60,
   "metadata": {},
   "outputs": [
    {
     "data": {
      "text/plain": [
       "array([[0.0000e+00, 0.0000e+00, 9.9999e+06],\n",
       "       [5.0000e+01, 0.0000e+00, 9.9999e+06],\n",
       "       [1.0000e+02, 0.0000e+00, 9.9999e+06],\n",
       "       ...,\n",
       "       [4.7000e+03, 4.3500e+03, 9.9999e+06],\n",
       "       [4.7500e+03, 4.3500e+03, 9.9999e+06],\n",
       "       [4.8000e+03, 4.3500e+03, 9.9999e+06]])"
      ]
     },
     "execution_count": 60,
     "metadata": {},
     "output_type": "execute_result"
    }
   ],
   "source": [
    "points = stacked_grid.reshape((3, 88*97)).T\n",
    "points"
   ]
  },
  {
   "cell_type": "markdown",
   "metadata": {},
   "source": [
    "Now we can remove all the nan-values (9999900.000000) which represent grid points without any real data:"
   ]
  },
  {
   "cell_type": "markdown",
   "metadata": {},
   "source": [
    "We can conveniently create a boolean filter for out z-values: We want to get rid of all nan-values and keep the rest. For this we make a boolean expression of checking our z-values stored in `points[:,2]` (third column of points array) if they are *not* equal to the nan-value of 9999900.000000:"
   ]
  },
  {
   "cell_type": "code",
   "execution_count": 61,
   "metadata": {},
   "outputs": [
    {
     "data": {
      "text/plain": [
       "array([False, False, False, ..., False, False, False])"
      ]
     },
     "execution_count": 61,
     "metadata": {},
     "output_type": "execute_result"
    }
   ],
   "source": [
    "boolean_filter = points[:,2] != 9999900.000000\n",
    "boolean_filter"
   ]
  },
  {
   "cell_type": "markdown",
   "metadata": {},
   "source": [
    "We can than use this boolean filter on our points array:"
   ]
  },
  {
   "cell_type": "code",
   "execution_count": 62,
   "metadata": {},
   "outputs": [
    {
     "data": {
      "text/plain": [
       "array([[ 150.      ,   50.      , 1840.032349],\n",
       "       [ 200.      ,   50.      , 1827.689697],\n",
       "       [ 250.      ,   50.      , 1810.294434],\n",
       "       ...,\n",
       "       [1900.      , 4250.      , 1778.41272 ],\n",
       "       [1800.      , 4300.      , 1786.391479],\n",
       "       [1850.      , 4300.      , 1782.213745]])"
      ]
     },
     "execution_count": 62,
     "metadata": {},
     "output_type": "execute_result"
    }
   ],
   "source": [
    "filtered_points = points[boolean_filter, :]\n",
    "filtered_points"
   ]
  },
  {
   "cell_type": "markdown",
   "metadata": {},
   "source": [
    "And now plot our final result using a scatterplot of all points, colored by their z-values:"
   ]
  },
  {
   "cell_type": "code",
   "execution_count": 63,
   "metadata": {},
   "outputs": [
    {
     "data": {
      "image/png": "[encoded data removed]",
      "text/plain": [
       "<Figure size 432x288 with 2 Axes>"
      ]
     },
     "metadata": {
      "needs_background": "light"
     },
     "output_type": "display_data"
    }
   ],
   "source": [
    "im = plt.scatter(filtered_points[:,0], filtered_points[:,1], \n",
    "                 c=filtered_points[:,2], cmap=\"viridis\")\n",
    "\n",
    "plt.colorbar(im, label=\"z-values\")\n",
    "plt.xlabel(\"x\")\n",
    "plt.ylabel(\"y\");"
   ]
  },
  {
   "cell_type": "code",
   "execution_count": null,
   "metadata": {},
   "outputs": [],
   "source": []
  },
  {
   "cell_type": "code",
   "execution_count": null,
   "metadata": {},
   "outputs": [],
   "source": []
  }
 ],
 "metadata": {
  "kernelspec": {
   "display_name": "Python 3",
   "language": "python",
   "name": "python3"
  },
  "language_info": {
   "codemirror_mode": {
    "name": "ipython",
    "version": 3
   },
   "file_extension": ".py",
   "mimetype": "text/x-python",
   "name": "python",
   "nbconvert_exporter": "python",
   "pygments_lexer": "ipython3",
   "version": "3.7.0"
  }
 },
 "nbformat": 4,
 "nbformat_minor": 2
}
